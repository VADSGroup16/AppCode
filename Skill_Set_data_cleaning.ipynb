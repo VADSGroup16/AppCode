{
  "nbformat": 4,
  "nbformat_minor": 0,
  "metadata": {
    "colab": {
      "provenance": []
    },
    "kernelspec": {
      "name": "python3",
      "display_name": "Python 3"
    },
    "language_info": {
      "name": "python"
    }
  },
  "cells": [
    {
      "cell_type": "code",
      "source": [
        "!pip install fuzzywuzzy\n"
      ],
      "metadata": {
        "colab": {
          "base_uri": "https://localhost:8080/"
        },
        "id": "RKAxMp0BNqYF",
        "outputId": "2540ade5-a057-4478-c1ff-67f89e892911"
      },
      "execution_count": null,
      "outputs": [
        {
          "output_type": "stream",
          "name": "stdout",
          "text": [
            "Collecting fuzzywuzzy\n",
            "  Downloading fuzzywuzzy-0.18.0-py2.py3-none-any.whl (18 kB)\n",
            "Installing collected packages: fuzzywuzzy\n",
            "Successfully installed fuzzywuzzy-0.18.0\n"
          ]
        }
      ]
    },
    {
      "cell_type": "code",
      "execution_count": null,
      "metadata": {
        "colab": {
          "base_uri": "https://localhost:8080/"
        },
        "id": "5fLEIq8vNgjN",
        "outputId": "565cfa2b-89af-4cbb-a1dd-10a9e445f872"
      },
      "outputs": [
        {
          "output_type": "stream",
          "name": "stdout",
          "text": [
            "                                               jobtitle  \\\n",
            "0                 Agency Manager  Senior Agency Manager   \n",
            "1     Leading role for Business Development Manager ...   \n",
            "2                          Business Development Manager   \n",
            "3                  Branch Manager (Location  KONASEEMA)   \n",
            "4          Branch Operations Manager (Location  Mulugu)   \n",
            "...                                                 ...   \n",
            "1375                            Territory Sales Manager   \n",
            "1376   Assistant Area Sales Manager/ Area Sales Manager   \n",
            "1377        Content Marketing Manager / General Manager   \n",
            "1378        Content Marketing Manager / General Manager   \n",
            "1379        Content Marketing Manager / General Manager   \n",
            "\n",
            "                                                 skills  \n",
            "0     ['insurance', 'sales', 'recruitment', 'agency ...  \n",
            "1     ['agent recruitment', 'agency sales', 'field s...  \n",
            "2     ['direct sales', 'sales', 'insurance sales', '...  \n",
            "3     ['Customer Service', 'Retail Banking', 'Sales'...  \n",
            "4     ['Retail Banking', 'Branch Operations', 'Custo...  \n",
            "...                                                 ...  \n",
            "1375  ['territory', 'sales', 'territory sales', 'ter...  \n",
            "1376  ['cashiers', 'sales coordination', 'account co...  \n",
            "1377  ['marketing communication', 'marketing managem...  \n",
            "1378  ['marketing communication', 'marketing managem...  \n",
            "1379  ['marketing communication', 'marketing managem...  \n",
            "\n",
            "[1380 rows x 2 columns]\n",
            "DataFrame saved to 'modified_data.csv'\n"
          ]
        }
      ],
      "source": [
        "import pandas as pd\n",
        "from difflib import SequenceMatcher\n",
        "\n",
        "# Read the CSV file\n",
        "df = pd.read_csv(\"/content/12310066_data.csv\")\n",
        "\n",
        "# Add a unique identifier column\n",
        "df['unique_id'] = range(1, len(df) + 1)\n",
        "\n",
        "# Convert the 'skills' column from string to list\n",
        "df['skills'] = df['skills'].apply(eval)\n",
        "\n",
        "# Define a function to sort skills in each row\n",
        "def sort_skills(skills_list):\n",
        "    return sorted(skills_list)\n",
        "\n",
        "# Apply the sort_skills function to each row in the 'skills' column\n",
        "df['sorted_skills'] = df['skills'].apply(sort_skills)\n",
        "\n",
        "# Define columns to check for duplicates\n",
        "columns_to_check_duplicates = ['jobtitle', 'sorted_skills']\n",
        "\n",
        "# Convert 'sorted_skills' column to tuples for checking duplicates\n",
        "df['sorted_skills'] = df['sorted_skills'].apply(tuple)\n",
        "\n",
        "# Use drop_duplicates with the subset parameter\n",
        "df_no_duplicates = df.drop_duplicates(subset=columns_to_check_duplicates, keep='first').copy()\n",
        "\n",
        "# Convert 'sorted_skills' column back to lists\n",
        "df_no_duplicates['sorted_skills'] = df_no_duplicates['sorted_skills'].apply(list)\n",
        "\n",
        "# Define a function to calculate similarity ratio using difflib\n",
        "def similarity_ratio(s1, s2):\n",
        "    return SequenceMatcher(None, s1, s2).ratio()\n",
        "\n",
        "# Find and group similar job titles\n",
        "# Adjust the threshold based on your needs\n",
        "threshold = 0.7\n",
        "\n",
        "groups = []\n",
        "grouped_titles = set()\n",
        "\n",
        "for title in df_no_duplicates['jobtitle']:\n",
        "    if title not in grouped_titles:\n",
        "        similar_titles = [t for t in df_no_duplicates['jobtitle'] if similarity_ratio(title, t) > threshold]\n",
        "        groups.append(similar_titles)\n",
        "        grouped_titles.update(similar_titles)\n",
        "\n",
        "# Assign group IDs to the DataFrame\n",
        "group_mapping = {title: i for i, group in enumerate(groups) for title in group}\n",
        "df_no_duplicates['group_id'] = df_no_duplicates['jobtitle'].map(group_mapping)\n",
        "\n",
        "# Define a function to get the updated job title for each row\n",
        "def get_updated_title(title):\n",
        "    return next(iter(groups[group_mapping[title]]))\n",
        "\n",
        "# Create a new column for updated job titles\n",
        "df_no_duplicates['updated_jobtitle'] = df_no_duplicates['jobtitle'].apply(get_updated_title)\n",
        "\n",
        "# Select only the required columns for the output\n",
        "df_output = df_no_duplicates[['sorted_skills', 'updated_jobtitle']].copy()\n",
        "\n",
        "# Convert 'sorted_skills' column to tuples for checking duplicates\n",
        "df_output['sorted_skills'] = df_output['sorted_skills'].apply(tuple)\n",
        "\n",
        "# Use drop_duplicates with the subset parameter\n",
        "df_output = df_output.drop_duplicates(subset=['sorted_skills', 'updated_jobtitle'], keep='first').copy()\n",
        "\n",
        "# Convert 'sorted_skills' column back to lists\n",
        "df_output['sorted_skills'] = df_output['sorted_skills'].apply(lambda x: x[0] if len(x) == 1 else tuple(x))\n",
        "\n",
        "# Sort the DataFrame by job title\n",
        "df_sorted = df_output.sort_values(by='updated_jobtitle')\n",
        "\n",
        "# Group by 'updated_jobtitle' and concatenate 'sorted_skills' into a single tuple\n",
        "df_final = df_sorted.groupby('updated_jobtitle')['sorted_skills'].agg(lambda x: tuple(sorted(set(y for sublist in x for y in sublist)))).reset_index()\n",
        "\n",
        "# Save the modified DataFrame to a new CSV file\n",
        "df_final.to_csv(\"/content/modified_data.csv\", index=False)\n",
        "\n",
        "print(\"DataFrame saved to 'modified_data.csv'\")"
      ]
    }
  ]
}